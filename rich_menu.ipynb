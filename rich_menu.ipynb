{
 "cells": [
  {
   "cell_type": "code",
   "execution_count": 1,
   "metadata": {},
   "outputs": [],
   "source": [
    "\n",
    "from linebot.models import RichMenu\n",
    "import json\n",
    "# 上傳設定檔，取得id，並將id寫入檔案中，而後上傳圖片\n",
    "def upload_rich_menu(rich_menu_name_array):\n",
    "    for filepath in rich_menu_name_array:\n",
    "        lineRichMenuId = line_bot_api.create_rich_menu(rich_menu=RichMenu.new_from_json_dict(json.load(open('material/'+filepath+'/rich_menu.json','r',encoding='utf-8'))))\n",
    "        print('-設定檔上傳結果')\n",
    "        print(lineRichMenuId)\n",
    "\n",
    "        # id寫入本地端                              \n",
    "        f = open(\"material/\"+filepath+\"/rich_menu_id\", \"w\")\n",
    "        f.write(lineRichMenuId)\n",
    "        f.close()\n",
    "\n",
    "        # 上傳照片至該id\n",
    "        set_image_response=''\n",
    "        with open(\"material/\"+filepath+'/rich_menu.jpg', 'rb') as f:\n",
    "            set_image_response=line_bot_api.set_rich_menu_image(lineRichMenuId, 'image/jpeg', f)\n",
    "\n",
    "        print(\"-圖片上傳結果\")                                               \n",
    "        print(set_image_response)"
   ]
  },
  {
   "cell_type": "code",
   "execution_count": 2,
   "metadata": {},
   "outputs": [],
   "source": [
    "'''\n",
    "\n",
    "查詢帳號內擁有的richmenu \n",
    "\n",
    "'''\n",
    "def check_rich_menu():\n",
    "    print(line_bot_api.get_rich_menu_list())\n"
   ]
  },
  {
   "cell_type": "code",
   "execution_count": 3,
   "metadata": {},
   "outputs": [],
   "source": [
    "'''\n",
    "\n",
    "移除帳號內的richmenu\n",
    "\n",
    "'''\n",
    "# 設定要移除的rich_menu\n",
    "def remove_rich_menu(rich_menu_name_array):\n",
    "\n",
    "    for rich_menu_name in rich_menu_name_array:\n",
    "\n",
    "        # 讀取rich_menu_id檔案，並告知 Line 進行刪除，並在刪除後，把本地檔案內容清除\n",
    "        with open(\"material/\"+rich_menu_name+'/rich_menu_id', 'r') as myfile:\n",
    "            rich_menu_id = myfile.read()\n",
    "            deleteResult = line_bot_api.delete_rich_menu(rich_menu_id)\n",
    "            print(deleteResult)\n",
    "\n",
    "        f = open(\"material/\"+rich_menu_name+\"/rich_menu_id\", \"w\")\n",
    "        f.write('')\n",
    "        f.close() "
   ]
  },
  {
   "cell_type": "code",
   "execution_count": 4,
   "metadata": {},
   "outputs": [],
   "source": [
    "'''\n",
    "\n",
    "解除用戶綁定\n",
    "\n",
    "'''\n",
    "def unlink_rich_menu(userID):\n",
    "    line_bot_api.unlink_rich_menu_from_user(userID)"
   ]
  },
  {
   "cell_type": "code",
   "execution_count": 5,
   "metadata": {},
   "outputs": [],
   "source": [
    "'''\n",
    "\n",
    "綁定個人用戶進行測試\n",
    "\n",
    "'''\n",
    "\n",
    "\n",
    "def test_rich_menu():\n",
    "    self_user_id='Uc3f75513553f630e58dab7fb4e42477c'\n",
    "    rich_menu_id='richmenu-c9f2a836ef1b8d028d6d85d0b0a8691b'\n",
    "\n",
    "    line_bot_api.unlink_rich_menu_from_user(self_user_id)\n",
    "    line_bot_api.link_rich_menu_to_user(self_user_id,rich_menu_id)"
   ]
  },
  {
   "cell_type": "code",
   "execution_count": 6,
   "metadata": {},
   "outputs": [],
   "source": [
    "channel_access_token = 'eMuStXIhJpZ0x0ZXQuEE+oiqVUU3Ad1YMUqoRALpbvmwLzEiekE5ZpLVRF66kind8sV/x0m/AP8Qv5Fr7ZFuhhj23Y2Igo9ldvXT6Haa1az0zXeJwK83jtEZD6Gyywzywq6+hiXilIbdVi8Xi9ALoQdB04t89/1O/w1cDnyilFU='\n",
    "channel_secret = 'a8491d99f9a02e36953b2e1c938b7459'\n",
    "from linebot import (\n",
    "    LineBotApi, WebhookHandler\n",
    ")\n",
    "line_bot_api = LineBotApi(channel_access_token)\n",
    "\n",
    "handler = WebhookHandler(channel_secret)\n"
   ]
  },
  {
   "cell_type": "code",
   "execution_count": 8,
   "metadata": {},
   "outputs": [
    {
     "name": "stdout",
     "output_type": "stream",
     "text": [
      "-設定檔上傳結果\n",
      "richmenu-37d27da89762afa119917744e4c4d3ef\n",
      "-圖片上傳結果\n",
      "None\n"
     ]
    }
   ],
   "source": [
    "upload_rich_menu(['rich_menu_begin'])"
   ]
  },
  {
   "cell_type": "code",
   "execution_count": null,
   "metadata": {},
   "outputs": [],
   "source": []
  }
 ],
 "metadata": {
  "kernelspec": {
   "display_name": "Python 3",
   "language": "python",
   "name": "python3"
  },
  "language_info": {
   "codemirror_mode": {
    "name": "ipython",
    "version": 3
   },
   "file_extension": ".py",
   "mimetype": "text/x-python",
   "name": "python",
   "nbconvert_exporter": "python",
   "pygments_lexer": "ipython3",
   "version": "3.7.3"
  }
 },
 "nbformat": 4,
 "nbformat_minor": 2
}
